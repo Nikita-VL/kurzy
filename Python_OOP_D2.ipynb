{
 "cells":[
  {
   "cell_type":"markdown",
   "source":[
    "# 🐍 Kurz Python Princípy OOP\n",
    "**🧑‍🏫 Lektor:** Miroslav Reiter  \n",
    "**📥 LinkedIn kontakt:** https:\/\/www.linkedin.com\/in\/miroslav-reiter\/  \n",
    "\n",
    "**✅ Osnova:** https:\/\/itkurzy.sav.sk\/node\/94   \n",
    "\n",
    "**🎞️ YouTube videá:** https:\/\/www.youtube.com\/c\/IT-AcademySK  \n",
    "**📇 Zdrojové kódy a materiály:** https:\/\/github.com\/miroslav-reiter\/Kurzy_SAV_Analytika_Python_R  \n",
    "\n",
    "**😊 Emojis:** Win + .  "
   ],
   "attachments":{
    
   },
   "metadata":{
    "datalore":{
     "node_id":"qRdXhRnZVVPQc9OEaStvFK",
     "type":"MD",
     "hide_input_from_viewers":false,
     "hide_output_from_viewers":false,
     "report_properties":{
      "rowId":"IX1cz5DYqo21Yt1Me23rGR",
      "x":0,
      "relativeY":0,
      "height":6
     }
    }
   }
  },
  {
   "cell_type":"markdown",
   "source":[
    "## 🦁🐆 I. Dedičnosť (Generalizácia is-a) Inheritance\n",
    "Rodicovska trieda\/parent class  \n",
    "Nadradena trieda\/sup class  \n",
    "Bazova trieda\/base class  "
   ],
   "attachments":{
    
   },
   "metadata":{
    "datalore":{
     "node_id":"7ZQDC1cfjTY8q4fL5L2fy3",
     "type":"MD",
     "hide_input_from_viewers":true,
     "hide_output_from_viewers":true,
     "report_properties":{
      "rowId":"IX1cz5DYqo21Yt1Me23rGR"
     }
    }
   }
  },
  {
   "cell_type":"code",
   "source":[
    "# Rodicovska trieda\/parent class\n",
    "# Nadradena trieda\/sup class\n",
    "# Bazova trieda\/base class\n",
    "\n",
    "class Zviera:\n",
    "    #1. Property\/Vlastnosti\n",
    "    dlzka_zivota = int()\n",
    "    hmotnost = float()\n",
    "    meno = str()\n",
    "    druh = str()\n",
    "    farba = [\"cierna\", \"modre\", \"hneda\"]\n",
    "    \n",
    "    #2. Chovanie\/Metody\n",
    "    def hybe(self):\n",
    "        print(\"Hybem sa...\")\n",
    "    \n",
    "    def __str__(self):\n",
    "        return f\"Meno je: {self.meno} ma dlzku zivota: {self.dlzka_zivota} rokov a ma farbu {self.farba}\"\n",
    "\n",
    "class Cicavec:\n",
    "    pass\n",
    "\n",
    "# Detska trieda\/Child class\n",
    "# Podtrieda\/Subclass\n",
    "# Potomok, Odvodena trieda\n",
    "class Lev(Zviera):\n",
    "    dlzka_chvosta = int()\n",
    "    dlzka_zivota = 12\n",
    "\n",
    "    def lovi(self):\n",
    "        print(\"Lovi...\")\n",
    "\n",
    "\n",
    "zviera1 = Zviera()\n",
    "print(f\"obj zviera: {zviera1}\")\n",
    "\n",
    "lev1 = Lev()\n",
    "print(f\"obj lev: {lev1}\")\n",
    "lev1.meno = \"Simba\"\n",
    "lev1.dlzka_zivota = 10\n",
    "lev1.farba = lev1.farba[0]\n",
    "print(f\"obj lev: {lev1}\")\n",
    "\n",
    "lev2 = Lev()\n",
    "lev2.meno = \"Levik\""
   ],
   "execution_count":1,
   "outputs":[
    {
     "name":"stdout",
     "text":[
      "obj zviera: Meno je:  ma dlzku zivota: 0 rokov a ma farbu ['cierna', 'modre', 'hneda']\n",
      "obj lev: Meno je:  ma dlzku zivota: 12 rokov a ma farbu ['cierna', 'modre', 'hneda']\n",
      "obj lev: Meno je: Simba ma dlzku zivota: 10 rokov a ma farbu cierna\n"
     ],
     "output_type":"stream"
    }
   ],
   "metadata":{
    "datalore":{
     "node_id":"UpBBeRgCzPpVV8tQa2Uvv8",
     "type":"CODE",
     "hide_input_from_viewers":true,
     "hide_output_from_viewers":true,
     "report_properties":{
      "rowId":"IX1cz5DYqo21Yt1Me23rGR"
     }
    }
   }
  },
  {
   "cell_type":"markdown",
   "source":[
    "## 🧑‍🏫 II. isinstance a issubclass"
   ],
   "attachments":{
    
   },
   "metadata":{
    "datalore":{
     "node_id":"13iGea8JlzKNWqIVQz8YiN",
     "type":"MD",
     "hide_input_from_viewers":true,
     "hide_output_from_viewers":true
    }
   }
  },
  {
   "cell_type":"code",
   "source":[
    "class Person:\n",
    "    pass\n",
    "\n",
    "class Professor(Person):\n",
    "    pass\n",
    "\n",
    "\n",
    "print(\"\\nisinstance:\")\n",
    "print(isinstance(\"Dusan\", str))\n",
    "print(isinstance(lev1, str))\n",
    "print(isinstance(lev1, Lev))\n",
    "print(isinstance(lev1, Zviera))\n",
    "print(isinstance(50, int))\n",
    "print(isinstance(int, object))\n",
    "print(isinstance(str, object))\n",
    "\n",
    "print(\"\\nissubclass:\")\n",
    "print(issubclass(str, object))\n",
    "print(issubclass(int, object))\n",
    "print(issubclass(int, object))\n",
    "print(issubclass(Person, object))\n",
    "print(issubclass(Person, Professor))\n",
    "print(issubclass(Professor, Person))\n",
    "print(\"lala\")"
   ],
   "execution_count":1,
   "outputs":[
    {
     "name":"stdout",
     "text":[
      "\n",
      "isinstance:\n",
      "True\n"
     ],
     "output_type":"stream"
    },
    {
     "ename":"NameError",
     "evalue":"NameError: name 'lev1' is not defined",
     "traceback":[
      "\u001b[0;31m---------------------------------------------------------------------------",
      "Traceback (most recent call last)",
      "    at line 10 in <module>",
      "NameError: name 'lev1' is not defined"
     ],
     "output_type":"error"
    }
   ],
   "metadata":{
    "datalore":{
     "node_id":"4tmiBxM2FURRD1DvVjxMnW",
     "type":"CODE",
     "hide_input_from_viewers":true,
     "hide_output_from_viewers":true
    }
   }
  },
  {
   "cell_type":"markdown",
   "source":[
    "## 👨‍👩‍👦 III. Viacnasobná Dedičnosť (Multiple Inheritance)\n",
    "MRO Method Resolution Order"
   ],
   "attachments":{
    
   },
   "metadata":{
    "datalore":{
     "node_id":"AhN8aG7Mx3gbNtKayAhEas",
     "type":"MD",
     "hide_input_from_viewers":true,
     "hide_output_from_viewers":true,
     "report_properties":{
      "rowId":"IX1cz5DYqo21Yt1Me23rGR"
     }
    }
   }
  },
  {
   "cell_type":"code",
   "source":[
    "class Otec():\n",
    "    def sprav_a(self):\n",
    "        print(\"A\")\n",
    "\n",
    "    def vypis_nieco(self):\n",
    "        print(f\"Otcovo nieco {self.__class__}\")\n",
    "    \n",
    "class Mama():\n",
    "    def sprav_b(self):\n",
    "        print(\"B\")\n",
    "\n",
    "    def vypis_nieco(self):\n",
    "        print(f\"Mamine nieco {self.__class__}\")\n",
    "\n",
    "class Syn(Mama, Otec):\n",
    "    def sprav_c(self):\n",
    "        print(\"C\")\n",
    "\n",
    "    def vypis_nieco(self):\n",
    "        print(f\"Synovo nieco {self.__class__}\")\n",
    "        super().vypis_nieco()\n",
    "        Mama.vypis_nieco(self)\n",
    "        Otec.vypis_nieco(self)\n",
    "\n",
    "print(\"Otec\")\n",
    "dusan = Otec()\n",
    "dusan.sprav_a()\n",
    "dusan.vypis_nieco()\n",
    "\n",
    "print(\"\\nSyn\")\n",
    "marek = Syn()\n",
    "marek.sprav_a()\n",
    "marek.sprav_b()\n",
    "marek.vypis_nieco()\n",
    "\n",
    "\n",
    "print(\"\\n MRO\")\n",
    "print(Mama.mro())\n",
    "print(Syn.mro())"
   ],
   "execution_count":3,
   "outputs":[
    {
     "name":"stdout",
     "text":[
      "Otec\n",
      "A\n",
      "Otcovo nieco <class '__main__.Otec'>\n",
      "\n",
      "Syn\n",
      "A\n",
      "B\n",
      "Synovo nieco <class '__main__.Syn'>\n",
      "Mamine nieco <class '__main__.Syn'>\n",
      "Mamine nieco <class '__main__.Syn'>\n",
      "Otcovo nieco <class '__main__.Syn'>\n",
      "\n",
      " MRO\n",
      "[<class '__main__.Mama'>, <class 'object'>]\n",
      "[<class '__main__.Syn'>, <class '__main__.Mama'>, <class '__main__.Otec'>, <class 'object'>]\n"
     ],
     "output_type":"stream"
    }
   ],
   "metadata":{
    "datalore":{
     "node_id":"uLeInAkoo85mdtZ4HKbIgi",
     "type":"CODE",
     "hide_input_from_viewers":true,
     "hide_output_from_viewers":true,
     "report_properties":{
      "rowId":"IX1cz5DYqo21Yt1Me23rGR"
     }
    }
   }
  },
  {
   "cell_type":"code",
   "source":[
    "class Address():\n",
    "    street = str()\n",
    "    city = str()\n",
    "\n",
    "    def validate(self):\n",
    "        print(\"Address is OK\")\n",
    "\n",
    "\n",
    "class Person:\n",
    "    name = str()\n",
    "    phone_number = str()\n",
    "    email_address = str()\n",
    "    obj_address = Address()\n",
    "\n",
    "    def purchase_parking_pass(self):\n",
    "        print(\"Som nakupil listok...\")\n",
    "\n",
    "class Student(Person):\n",
    "    number_student = str()\n",
    "    mark_average = float()\n",
    "\n",
    "    def is_eligible_to_enroll(self):\n",
    "        print(\"Pass OK\")\n",
    "    \n",
    "    def get_seminar_take(self):\n",
    "        print(\"Seminar Pass\")\n",
    "\n",
    "class Professor(Person):\n",
    "    salary = float()\n",
    "\n",
    "\n",
    "person1 = Person()\n",
    "person1.obj_address.street"
   ],
   "execution_count":2,
   "outputs":[
    {
     "data":{
      "text\/plain":[
       "''"
      ]
     },
     "metadata":{
      
     },
     "output_type":"display_data"
    }
   ],
   "metadata":{
    "datalore":{
     "node_id":"wDpy6Z37lLqRZ74sUQTCcs",
     "type":"CODE",
     "hide_input_from_viewers":true,
     "hide_output_from_viewers":true,
     "report_properties":{
      "rowId":"IX1cz5DYqo21Yt1Me23rGR"
     }
    }
   }
  },
  {
   "cell_type":"code",
   "source":[
    
   ],
   "execution_count":null,
   "outputs":[
    
   ],
   "metadata":{
    "datalore":{
     "node_id":"TRrWKFHp9bTAjDDvXk6Rsu",
     "type":"CODE",
     "hide_input_from_viewers":true,
     "hide_output_from_viewers":true,
     "report_properties":{
      "rowId":"IX1cz5DYqo21Yt1Me23rGR"
     }
    }
   }
  },
  {
   "cell_type":"markdown",
   "source":[
    "## 🔒 Modifikátory Prístupu"
   ],
   "attachments":{
    
   },
   "metadata":{
    "datalore":{
     "node_id":"eW5sP5Zz9rkAmmyqsyIRJB",
     "type":"MD",
     "hide_input_from_viewers":true,
     "hide_output_from_viewers":true
    }
   }
  },
  {
   "cell_type":"code",
   "source":[
    "class Bankovy_Ucet():\n",
    "    # Scope\/Obor platnosti Local\/Lokalny v Triede\n",
    "    # Public\/verejne \n",
    "    nazov_banky = \"Tatra Banka\"\n",
    "    # ak by to bola firma\n",
    "    IBAN = \"SK11000000....\"\n",
    "    sidlo = \"Vajnorska ulica 65\"\n",
    "\n",
    "    # Private\/sukromne\n",
    "    __zostatok = 150_000.23\n",
    "    __heslo_pouzivatela = \"123456789\"\n",
    "    __typ = str()\n",
    "\n",
    "    # Protected\/chranene\n",
    "    _disponent = \"Maria\"\n",
    "\n",
    "    def zobraz_zostatok(self):\n",
    "        print(f\"Moj aktualny zostatok je: {self.__zostatok}\")\n",
    "        print(f\"Moj disponent je: {self._disponent}\")\n",
    "\n",
    "class Bankovy_Investicny_Ucet(Bankovy_Ucet):\n",
    "    _disponent = \"Maros\"\n",
    "\n",
    "# Global\/Globalny mimo Triede\n",
    "bu1 = Bankovy_Ucet()\n",
    "print(bu1.IBAN)\n",
    "bu1.zobraz_zostatok()\n",
    "\n",
    "biu1 = Bankovy_Investicny_Ucet()\n",
    "biu1.zobraz_zostatok()\n"
   ],
   "execution_count":12,
   "outputs":[
    {
     "name":"stdout",
     "text":[
      "SK11000000....\n",
      "Moj aktualny zostatok je: 150000.23\n",
      "Moj disponent je: Maria\n",
      "Moj aktualny zostatok je: 150000.23\n",
      "Moj disponent je: Maros\n"
     ],
     "output_type":"stream"
    }
   ],
   "metadata":{
    "datalore":{
     "node_id":"uMCjPf47OScdjzmGFdvyUa",
     "type":"CODE",
     "hide_input_from_viewers":true,
     "hide_output_from_viewers":true
    }
   }
  },
  {
   "cell_type":"markdown",
   "source":[
    "## 📓 Kompozícia (Composition) has-a\n",
    "Kompozitna (Composite class)  \n",
    "Komponent (Component class)  "
   ],
   "attachments":{
    
   },
   "metadata":{
    "datalore":{
     "node_id":"5PpOEdBsoUdIrUggs3AZ5s",
     "type":"MD",
     "hide_input_from_viewers":false,
     "hide_output_from_viewers":false,
     "report_properties":{
      "rowId":"IX1cz5DYqo21Yt1Me23rGR",
      "x":0,
      "relativeY":6,
      "width":0.5,
      "height":6
     }
    }
   }
  },
  {
   "cell_type":"code",
   "source":[
    
   ],
   "execution_count":null,
   "outputs":[
    
   ],
   "metadata":{
    "datalore":{
     "node_id":"rd2anOubzkBLSFMHim2OpX",
     "type":"CODE",
     "hide_input_from_viewers":true,
     "hide_output_from_viewers":true
    }
   }
  },
  {
   "cell_type":"markdown",
   "source":[
    "## 🆔 IV. Identita  \n",
    "objekt.atribut   \n",
    "objekt.metoda() \n",
    "Trieda.atribut   \n",
    "\n",
    "**objekt.atribut**\n",
    "karol.rum  \n",
    "karol.pivo  \n",
    "karol.sangala.rum  \n",
    "karol.sangala.senior.rum  \n",
    "\n",
    "**objekt.metoda()**  \n",
    "karol.zaplat()  \n",
    "karol.pod()  \n",
    "karol.sangala.zaplat()\n",
    "karol.sangala.senior.zaplat()"
   ],
   "attachments":{
    
   },
   "metadata":{
    "datalore":{
     "node_id":"wiBb5cb8f2EFNaGsB8gc7J",
     "type":"MD",
     "hide_input_from_viewers":true,
     "hide_output_from_viewers":true,
     "report_properties":{
      "rowId":"MmoOcJ4U00cyd3XmBOapen"
     }
    }
   }
  },
  {
   "cell_type":"markdown",
   "source":[
    "## 🧊 V. Polymorfizmus (Mnohotvarost)"
   ],
   "attachments":{
    
   },
   "metadata":{
    "datalore":{
     "node_id":"D8y3EJcshsJh8s3lSe3lnk",
     "type":"MD",
     "hide_input_from_viewers":true,
     "hide_output_from_viewers":true
    }
   }
  },
  {
   "cell_type":"code",
   "source":[
    "# Polymorfizmus operatorov\n",
    "a = 5\n",
    "b = 6\n",
    "print(a+b)\n",
    "\n",
    "c = \"Adam\"\n",
    "d = \"Sangala\"\n",
    "print(c + \" \" + d)\n",
    "\n",
    "# Polymorfizmus def\/funckii\/metod\n",
    "# Jednoduchy polymorfizmus\n",
    "# Method Overloading\n",
    "# Pretazenie metod\n",
    "nazov_kurz = \"Python OOP\"\n",
    "# Pocet znakov\n",
    "print(len(nazov_kurz))\n",
    "# Pocet poloziek\n",
    "print(len([1,2,3,4,9]))\n",
    "print(len({\"mama\":\"eva\", \"otec\":\"jozef\"}))\n",
    "\n",
    "def sum(a, b, c = 0):\n",
    "    return a+b+c\n",
    "print(sum(1, 2))\n",
    "print(sum(1, 2, 5))"
   ],
   "execution_count":25,
   "outputs":[
    {
     "name":"stdout",
     "text":[
      "11\n",
      "Adam Sangala\n",
      "10\n",
      "5\n",
      "2\n",
      "3\n",
      "8\n"
     ],
     "output_type":"stream"
    }
   ],
   "metadata":{
    "datalore":{
     "node_id":"EUTYELfaaHnKF31Dt1FV8e",
     "type":"CODE",
     "hide_input_from_viewers":true,
     "hide_output_from_viewers":true
    }
   }
  },
  {
   "cell_type":"markdown",
   "source":[
    "## 💀 VI. Raise vyvolanie chyb\/vynimiek\n",
    "raise ArithmeticError(\"Nastala chyba vypoctu\")  \n",
    "raise AttributeError(\"Chyba ti prislusny atribut\")  "
   ],
   "attachments":{
    
   },
   "metadata":{
    "datalore":{
     "node_id":"ydZacnCriYnCrBquLFWEoV",
     "type":"MD",
     "hide_input_from_viewers":true,
     "hide_output_from_viewers":true
    }
   }
  },
  {
   "cell_type":"code",
   "source":[
    "class Stat:\n",
    "    def vypis_hlavne_mesto(self):\n",
    "        print(\"Hlavne mesto: ...\")\n",
    "    \n",
    "    def vypis_jazyk(self):\n",
    "        print(\"Pouzivany jazyk: ...\")\n",
    "\n",
    "class Slovensko(Stat):\n",
    "    __hlavne_mesto = \"Bratislava\"\n",
    "    __jazyk = \"Slovencina\"\n",
    "\n",
    "    def vypis_hlavne_mesto(self):\n",
    "        print(f\"Hlavne mesto: {self.__hlavne_mesto}\")\n",
    "    \n",
    "    def vypis_jazyk(self):\n",
    "        print(f\"Pouzivany jazyk: {self.__jazyk}\")\n",
    "\n",
    "class Kanada(Stat):\n",
    "    __hlavne_mesto = \"Otawa\"\n",
    "    __jazyk = \"Francuzstina\"\n",
    "\n",
    "    def vypis_hlavne_mesto(self):\n",
    "        print(f\"Hlavne mesto: {self.__hlavne_mesto}\")\n",
    "    \n",
    "    def vypis_jazyk(self):\n",
    "        print(f\"Pouzivany jazyk: {self.__jazyk}\")\n",
    "\n",
    "objSlovensko = Slovensko()\n",
    "objSlovensko.vypis_hlavne_mesto()\n",
    "objSlovensko.vypis_jazyk()\n",
    "\n",
    "objKanada = Kanada()\n",
    "objKanada.vypis_hlavne_mesto()\n",
    "objKanada.vypis_jazyk()"
   ],
   "execution_count":30,
   "outputs":[
    {
     "name":"stdout",
     "text":[
      "Hlavne mesto: Bratislava\n",
      "Pouzivany jazyk: Slovencina\n",
      "Hlavne mesto: Otawa\n",
      "Pouzivany jazyk: Francuzstina\n"
     ],
     "output_type":"stream"
    }
   ],
   "metadata":{
    "datalore":{
     "node_id":"FMfyfw39J7df6zSPAV6UYA",
     "type":"CODE",
     "hide_input_from_viewers":true,
     "hide_output_from_viewers":true
    }
   }
  },
  {
   "cell_type":"code",
   "source":[
    "# Dynamicky polymorfizmus\n",
    "class Figurka:\n",
    "    meno = str()\n",
    "    farba = str()\n",
    "\n",
    "    def pohyb(self):\n",
    "        pass\n",
    "    \n",
    "class Pesiak(Figurka):\n",
    "    # Method Overriding\n",
    "    # Prekrytie metod\n",
    "    def pohyb(self):\n",
    "        print(\"Pohyb smerom dopredu o 1 policky\")\n",
    "        \n",
    "    # Polymorfizmus\n",
    "    # Prekrytie\n",
    "    def __str__(self):\n",
    "        return f\"Objekt {self.__class__} ma pohyb dopredu\"\n",
    "    \n",
    "objPesiak = Pesiak()\n",
    "print(objPesiak)"
   ],
   "execution_count":34,
   "outputs":[
    {
     "name":"stdout",
     "text":[
      "Objekt <class '__main__.Pesiak'> ma pohyb dopredu\n"
     ],
     "output_type":"stream"
    }
   ],
   "metadata":{
    "datalore":{
     "node_id":"kQRfgpZyxjxOHiWJbtcK2b",
     "type":"CODE",
     "hide_input_from_viewers":true,
     "hide_output_from_viewers":true
    }
   }
  },
  {
   "cell_type":"code",
   "source":[
    
   ],
   "execution_count":null,
   "outputs":[
    
   ],
   "metadata":{
    "datalore":{
     "node_id":"XIQ5HhLhT8tdhcdOovNsZT",
     "type":"CODE",
     "hide_input_from_viewers":true,
     "hide_output_from_viewers":true
    }
   }
  },
  {
   "cell_type":"markdown",
   "source":[
    "## Reaktivita\/Reaktívnosť (Reactive Mode)\n",
    "RxPy"
   ],
   "attachments":{
    
   },
   "metadata":{
    "datalore":{
     "node_id":"ol7IwDxSyQNKjQrNZNX0Ih",
     "type":"MD",
     "hide_input_from_viewers":true,
     "hide_output_from_viewers":true
    }
   }
  },
  {
   "cell_type":"code",
   "source":[
    
   ],
   "execution_count":null,
   "outputs":[
    
   ],
   "metadata":{
    "datalore":{
     "node_id":"P7645ooFjW9AS6XLwaamBX",
     "type":"CODE",
     "hide_input_from_viewers":true,
     "hide_output_from_viewers":true
    }
   }
  },
  {
   "cell_type":"code",
   "source":[
    
   ],
   "execution_count":null,
   "outputs":[
    
   ],
   "metadata":{
    "datalore":{
     "node_id":"y9UjbuxwHYfEEBMZBx5P0z",
     "type":"RUN",
     "hide_input_from_viewers":true,
     "hide_output_from_viewers":true,
     "run_cell_properties":{
      "label":"Button",
      "showCode":false
     }
    }
   }
  }
 ],
 "metadata":{
  "kernelspec":{
   "display_name":"Python",
   "language":"python",
   "name":"python"
  },
  "datalore":{
   "computation_mode":"JUPYTER",
   "package_manager":"pip",
   "base_environment":"default",
   "packages":[
    
   ],
   "report_row_ids":[
    "IX1cz5DYqo21Yt1Me23rGR",
    "MmoOcJ4U00cyd3XmBOapen"
   ],
   "version":2
  }
 },
 "nbformat":4,
 "nbformat_minor":4
}